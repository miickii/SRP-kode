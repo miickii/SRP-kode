{
 "cells": [
  {
   "cell_type": "code",
   "execution_count": 1,
   "id": "8ca474d5",
   "metadata": {},
   "outputs": [
    {
     "name": "stderr",
     "output_type": "stream",
     "text": [
      "2023-03-15 00:36:10.028470: I tensorflow/core/platform/cpu_feature_guard.cc:193] This TensorFlow binary is optimized with oneAPI Deep Neural Network Library (oneDNN) to use the following CPU instructions in performance-critical operations:  AVX2 FMA\n",
      "To enable them in other operations, rebuild TensorFlow with the appropriate compiler flags.\n"
     ]
    }
   ],
   "source": [
    "import tensorflow as tf\n",
    "from tensorflow.keras import datasets, layers, models\n",
    "import matplotlib.pyplot as plt\n",
    "import numpy as np\n",
    "import os\n",
    "\n",
    "labels = [\"apple\", \"tree\", \"pizza\", \"eiffel_tower\", \"donut\", \"fish\", \"wine_glass\", \"dog\", \"smiley\", \"carrot\", \"t_shirt\", \"cactus\", \"bed\"]"
   ]
  },
  {
   "cell_type": "code",
   "execution_count": 2,
   "id": "8a45ce0a",
   "metadata": {},
   "outputs": [],
   "source": [
    "def plot_sample(x, y, index):\n",
    "    image = x[index].reshape(28, 28) * 255\n",
    "    plt.imshow(image, cmap=\"gray\")\n",
    "    plt.title(labels[int(y[index])])\n",
    "    plt.show()"
   ]
  },
  {
   "cell_type": "code",
   "execution_count": 5,
   "id": "dde2eddd",
   "metadata": {},
   "outputs": [
    {
     "name": "stdout",
     "output_type": "stream",
     "text": [
      "\"apple\", \"tree\", \"pizza\", \"eiffel_tower\", \"donut\", \"fish\", \"wine_glass\", \"dog\", \"smiley\", \"carrot\", \"t_shirt\", \"cactus\", \"bed\", \n"
     ]
    }
   ],
   "source": [
    "def all_labels(dir_path):\n",
    "    final_list = \"\"\n",
    "    for filename in os.listdir(dir_path):\n",
    "        final_list += '\"' + filename.split(\".\")[0] + '\", '\n",
    "    \n",
    "    return final_list\n",
    "\n",
    "print(all_labels(\"data\"))"
   ]
  },
  {
   "cell_type": "code",
   "execution_count": 3,
   "id": "0f9c972d",
   "metadata": {},
   "outputs": [],
   "source": [
    "# small: 8000, medium: 18000, large: 10000\n",
    "def load_data(dir_path):\n",
    "    x_train = np.empty((0, 784))\n",
    "    y_train = np.empty((0,))\n",
    "    x_test = np.empty((0, 784))\n",
    "    y_test = np.empty((0,))\n",
    "    for i, filename in enumerate(os.listdir(dir_path)):\n",
    "        data = np.load(os.path.join(dir_path, filename))[0:80000]\n",
    "        train_data = data[0:70000]\n",
    "        test_data = data[70000:80000]\n",
    "        \n",
    "        label = np.ones(data.shape[0])*i\n",
    "        x_train = np.concatenate([x_train, train_data])\n",
    "        y_train = np.concatenate([y_train, np.ones(train_data.shape[0])*i])\n",
    "        x_test = np.concatenate([x_test, test_data])\n",
    "        y_test = np.concatenate([y_test, np.ones(test_data.shape[0])*i])\n",
    "    \n",
    "    return x_train, y_train, x_test, y_test"
   ]
  },
  {
   "cell_type": "code",
   "execution_count": 19,
   "id": "b07b9060",
   "metadata": {},
   "outputs": [
    {
     "name": "stdout",
     "output_type": "stream",
     "text": [
      "(144722, 784)\n",
      "(144721, 784)\n",
      "(130371, 784)\n",
      "(134801, 784)\n",
      "(140751, 784)\n",
      "(134150, 784)\n",
      "(132302, 784)\n",
      "(152159, 784)\n",
      "(124386, 784)\n",
      "(132459, 784)\n",
      "(125233, 784)\n",
      "(131676, 784)\n",
      "(113862, 784)\n"
     ]
    }
   ],
   "source": [
    "def list_data(dir_path):\n",
    "    for i, filename in enumerate(os.listdir(dir_path)):\n",
    "        data = np.load(os.path.join(dir_path, filename))\n",
    "        print(data.shape)\n",
    "\n",
    "list_data(\"data\")"
   ]
  },
  {
   "cell_type": "code",
   "execution_count": 4,
   "id": "da11920c",
   "metadata": {},
   "outputs": [],
   "source": [
    "x_train, y_train, x_test, y_test = load_data(\"data\")"
   ]
  },
  {
   "cell_type": "code",
   "execution_count": 5,
   "id": "8eb20c50",
   "metadata": {},
   "outputs": [],
   "source": [
    "y_train = y_train.astype(int)\n",
    "y_test = y_test.astype(int)\n",
    "x_train, x_test = x_train/255, x_test/255\n",
    "\n",
    "# Generate a random permutation of the indices\n",
    "perm = np.random.permutation(x_train.shape[0])\n",
    "\n",
    "# Shuffle both arrays in the same way\n",
    "x_train = x_train[perm]\n",
    "y_train = y_train[perm]"
   ]
  },
  {
   "cell_type": "code",
   "execution_count": 6,
   "id": "33bbbf85",
   "metadata": {},
   "outputs": [
    {
     "data": {
      "image/png": "[encoded data removed]",
      "text/plain": [
       "<Figure size 432x288 with 1 Axes>"
      ]
     },
     "metadata": {
      "needs_background": "light"
     },
     "output_type": "display_data"
    }
   ],
   "source": [
    "plot_sample(x_train, y_train, 90)"
   ]
  },
  {
   "cell_type": "code",
   "execution_count": 7,
   "id": "1e52283b",
   "metadata": {},
   "outputs": [],
   "source": [
    "model = models.Sequential([\n",
    "  layers.Flatten(input_shape=(784,)),\n",
    "  layers.Dense(1024, activation='relu'),\n",
    "  layers.Dense(512, activation='relu'),\n",
    "  layers.Dense(256, activation='relu'),\n",
    "  layers.Dense(128, activation='relu'),\n",
    "  layers.Dense(13, activation='softmax')\n",
    "])"
   ]
  },
  {
   "cell_type": "code",
   "execution_count": 8,
   "id": "d890eea4",
   "metadata": {},
   "outputs": [],
   "source": [
    "model.compile(optimizer='adam',\n",
    "              loss='sparse_categorical_crossentropy',\n",
    "              metrics=['accuracy'])"
   ]
  },
  {
   "cell_type": "code",
   "execution_count": 9,
   "id": "e71c56df",
   "metadata": {},
   "outputs": [
    {
     "name": "stdout",
     "output_type": "stream",
     "text": [
      "Epoch 1/5\n",
      "28438/28438 [==============================] - 333s 12ms/step - loss: 0.3690 - accuracy: 0.8900\n",
      "Epoch 2/5\n",
      "28438/28438 [==============================] - 313s 11ms/step - loss: 0.2644 - accuracy: 0.9226\n",
      "Epoch 3/5\n",
      "28438/28438 [==============================] - 324s 11ms/step - loss: 0.2307 - accuracy: 0.9328\n",
      "Epoch 4/5\n",
      "28438/28438 [==============================] - 326s 11ms/step - loss: 0.2093 - accuracy: 0.9391\n",
      "Epoch 5/5\n",
      "28438/28438 [==============================] - 335s 12ms/step - loss: 0.1945 - accuracy: 0.9442\n"
     ]
    },
    {
     "data": {
      "text/plain": [
       "<keras.callbacks.History at 0x7fac1b73b5e0>"
      ]
     },
     "execution_count": 9,
     "metadata": {},
     "output_type": "execute_result"
    }
   ],
   "source": [
    "model.fit(x_train, y_train, epochs=5)"
   ]
  },
  {
   "cell_type": "code",
   "execution_count": 10,
   "id": "cc6da71d",
   "metadata": {},
   "outputs": [
    {
     "name": "stdout",
     "output_type": "stream",
     "text": [
      "4063/4063 [==============================] - 9s 2ms/step - loss: 0.2432 - accuracy: 0.9327\n"
     ]
    },
    {
     "data": {
      "text/plain": [
       "[0.24323593080043793, 0.9326615333557129]"
      ]
     },
     "execution_count": 10,
     "metadata": {},
     "output_type": "execute_result"
    }
   ],
   "source": [
    "model.evaluate(x_test, y_test)"
   ]
  },
  {
   "cell_type": "code",
   "execution_count": 45,
   "id": "ce0e92b0",
   "metadata": {},
   "outputs": [
    {
     "name": "stdout",
     "output_type": "stream",
     "text": [
      "407/407 [==============================] - 1s 1ms/step\n"
     ]
    }
   ],
   "source": [
    "y_pred = [np.argmax(prediction) for prediction in model.predict(x_test)]"
   ]
  },
  {
   "cell_type": "code",
   "execution_count": 47,
   "id": "c4864fac",
   "metadata": {},
   "outputs": [
    {
     "data": {
      "text/plain": [
       "[0, 0, 0, 0, 0, 0, 0, 0, 0, 0]"
      ]
     },
     "execution_count": 47,
     "metadata": {},
     "output_type": "execute_result"
    }
   ],
   "source": [
    "y_pred[140:4000]"
   ]
  },
  {
   "cell_type": "code",
   "execution_count": 114,
   "id": "6053971b",
   "metadata": {},
   "outputs": [
    {
     "data": {
      "text/plain": [
       "array([0, 0, 0, 0, 0])"
      ]
     },
     "execution_count": 114,
     "metadata": {},
     "output_type": "execute_result"
    }
   ],
   "source": [
    "y_test[0:5]"
   ]
  },
  {
   "cell_type": "code",
   "execution_count": 16,
   "id": "e2b2dd01",
   "metadata": {},
   "outputs": [],
   "source": [
    "model.save('doodle_model_medium.h5')"
   ]
  },
  {
   "cell_type": "code",
   "execution_count": null,
   "id": "87b79ff7",
   "metadata": {},
   "outputs": [],
   "source": []
  }
 ],
 "metadata": {
  "kernelspec": {
   "display_name": "machine_learning",
   "language": "python",
   "name": "machine_learning"
  },
  "language_info": {
   "codemirror_mode": {
    "name": "ipython",
    "version": 3
   },
   "file_extension": ".py",
   "mimetype": "text/x-python",
   "name": "python",
   "nbconvert_exporter": "python",
   "pygments_lexer": "ipython3",
   "version": "3.10.4"
  }
 },
 "nbformat": 4,
 "nbformat_minor": 5
}
